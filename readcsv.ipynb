import pandas as pd
import numpy as np

df = pd.read_csv('/Users/aidenjohnson/Dropbox/Hustle/Data Science/Data Projects/Zillow/All_Starbucks_Locations_in_the_World.csv')
df