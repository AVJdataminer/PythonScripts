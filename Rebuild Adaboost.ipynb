{
 "cells": [
  {
   "cell_type": "markdown",
   "metadata": {},
   "source": [
    "# Ensemble - Adaboost\n",
    "Adaptive Boosting (AdaBoost) is an ensemble method that sums the predictions made by multiple decision trees. Additional models are added and trained on the data instances that were miss­classified by previous models in the ensemble. Generally the approach to creating an ensemble used by AdaBoost is called boosting."
   ]
  },
  {
   "cell_type": "code",
   "execution_count": 29,
   "metadata": {
    "collapsed": true
   },
   "outputs": [],
   "source": [
    "from sklearn import datasets \n",
    "from sklearn import metrics \n",
    "from sklearn.ensemble import AdaBoostRegressor"
   ]
  },
  {
   "cell_type": "markdown",
   "metadata": {},
   "source": [
    "figure out how to load data from a csv file\n",
    "use pandas "
   ]
  },
  {
   "cell_type": "code",
   "execution_count": 17,
   "metadata": {},
   "outputs": [
    {
     "name": "stdout",
     "output_type": "stream",
     "text": [
      "      a.0  aa.0  ab.0  ac.0  ad.0  af.0  ai.0  aj.0  ak.0  al.0  ...   X375  \\\n",
      "0       0     0     0     0     0     0     0     0     0     0  ...      0   \n",
      "1       0     0     0     0     0     0     0     0     0     0  ...      1   \n",
      "2       0     0     0     0     0     0     0     0     0     0  ...      0   \n",
      "3       0     0     0     0     0     0     0     0     0     0  ...      0   \n",
      "4       0     0     0     0     0     0     0     0     0     0  ...      0   \n",
      "5       0     0     0     0     0     0     0     0     0     0  ...      0   \n",
      "6       0     0     0     0     0     0     0     0     0     1  ...      0   \n",
      "7       0     0     0     0     0     0     0     0     0     0  ...      0   \n",
      "8       0     0     0     0     0     0     0     0     0     0  ...      1   \n",
      "9       0     0     0     0     0     0     0     0     0     0  ...      0   \n",
      "10      0     0     0     0     0     0     0     0     0     0  ...      0   \n",
      "11      0     0     0     0     0     0     0     0     0     1  ...      0   \n",
      "12      0     0     0     0     0     0     0     0     0     0  ...      0   \n",
      "13      0     0     0     0     0     0     0     0     0     1  ...      0   \n",
      "14      0     0     0     0     0     0     0     0     0     0  ...      1   \n",
      "15      0     0     0     0     0     0     0     0     0     0  ...      0   \n",
      "16      0     0     0     0     0     0     0     0     0     1  ...      0   \n",
      "17      0     0     0     0     0     0     0     0     0     0  ...      0   \n",
      "18      0     0     0     0     0     0     0     0     0     0  ...      0   \n",
      "19      0     0     0     0     0     0     0     0     0     0  ...      0   \n",
      "20      0     0     0     0     0     0     0     0     0     0  ...      0   \n",
      "21      0     0     0     0     0     0     0     0     0     0  ...      0   \n",
      "22      0     0     0     0     0     0     0     0     0     0  ...      1   \n",
      "23      0     0     0     0     0     0     0     0     0     0  ...      0   \n",
      "24      0     0     0     0     0     0     0     0     0     0  ...      0   \n",
      "25      0     0     0     0     0     0     0     0     0     0  ...      0   \n",
      "26      0     0     0     0     0     0     0     1     0     0  ...      0   \n",
      "27      0     0     0     0     0     0     0     0     0     0  ...      1   \n",
      "28      0     0     0     0     0     0     0     0     0     0  ...      1   \n",
      "29      0     0     0     0     0     0     0     0     0     0  ...      0   \n",
      "...   ...   ...   ...   ...   ...   ...   ...   ...   ...   ...  ...    ...   \n",
      "4179    0     0     0     0     0     0     0     0     0     1  ...      0   \n",
      "4180    0     0     0     0     0     0     0     0     0     0  ...      0   \n",
      "4181    0     0     0     0     0     0     0     0     0     0  ...      0   \n",
      "4182    0     0     0     0     0     0     0     0     0     0  ...      1   \n",
      "4183    0     0     0     0     0     0     0     0     0     0  ...      1   \n",
      "4184    0     0     0     0     0     0     0     0     0     0  ...      1   \n",
      "4185    0     0     0     0     0     0     0     0     1     0  ...      0   \n",
      "4186    0     0     0     0     0     0     0     0     0     0  ...      0   \n",
      "4187    0     0     0     0     0     0     0     1     0     0  ...      0   \n",
      "4188    0     0     0     0     0     0     0     0     0     0  ...      0   \n",
      "4189    0     0     0     0     0     0     0     1     0     0  ...      1   \n",
      "4190    0     0     0     0     0     0     0     0     0     0  ...      1   \n",
      "4191    0     0     0     0     0     0     0     0     0     0  ...      1   \n",
      "4192    0     0     0     0     0     0     0     1     0     0  ...      0   \n",
      "4193    0     0     0     0     0     0     0     0     1     0  ...      0   \n",
      "4194    0     0     0     0     0     0     0     0     0     0  ...      0   \n",
      "4195    0     0     0     0     0     0     0     0     0     0  ...      0   \n",
      "4196    0     0     0     0     0     0     0     0     0     0  ...      0   \n",
      "4197    0     0     0     0     0     0     0     0     0     0  ...      1   \n",
      "4198    0     0     0     0     0     0     0     0     0     0  ...      0   \n",
      "4199    0     0     0     0     0     0     0     0     0     0  ...      1   \n",
      "4200    0     0     0     0     0     0     0     0     0     0  ...      1   \n",
      "4201    0     0     0     0     0     0     0     0     0     0  ...      0   \n",
      "4202    0     0     0     0     0     0     0     0     0     0  ...      0   \n",
      "4203    0     0     0     0     0     0     0     0     0     0  ...      1   \n",
      "4204    0     0     0     0     0     0     0     0     1     0  ...      1   \n",
      "4205    0     0     0     0     0     0     0     0     0     0  ...      0   \n",
      "4206    0     0     0     0     0     0     0     0     1     0  ...      0   \n",
      "4207    0     0     0     0     0     0     0     0     0     1  ...      0   \n",
      "4208    0     0     0     0     0     0     0     0     0     0  ...      1   \n",
      "\n",
      "      X376  X377  X378  X379  X380  X382  X383  X384  X385  \n",
      "0        0     1     0     0     0     0     0     0     0  \n",
      "1        0     0     0     0     0     0     0     0     0  \n",
      "2        0     0     0     0     0     1     0     0     0  \n",
      "3        0     0     0     0     0     0     0     0     0  \n",
      "4        0     0     0     0     0     0     0     0     0  \n",
      "5        0     1     0     0     0     0     0     0     0  \n",
      "6        0     0     0     0     0     0     0     0     0  \n",
      "7        0     0     0     0     0     0     0     0     0  \n",
      "8        0     0     0     0     0     0     0     0     0  \n",
      "9        0     1     0     0     0     0     0     0     0  \n",
      "10       0     0     0     0     0     0     0     0     0  \n",
      "11       0     0     0     0     0     0     0     0     0  \n",
      "12       0     1     0     0     0     0     0     0     0  \n",
      "13       0     0     0     0     0     0     0     0     0  \n",
      "14       0     0     0     0     0     0     0     0     0  \n",
      "15       0     0     0     0     0     0     0     0     0  \n",
      "16       0     0     0     0     0     0     0     0     0  \n",
      "17       0     1     0     0     0     0     0     0     0  \n",
      "18       0     1     0     0     0     0     0     0     0  \n",
      "19       0     0     0     0     0     0     0     0     0  \n",
      "20       0     1     0     0     0     0     0     0     0  \n",
      "21       1     0     0     0     0     0     0     0     0  \n",
      "22       0     0     0     0     0     0     0     0     0  \n",
      "23       0     1     0     0     0     0     0     0     0  \n",
      "24       0     0     0     0     0     0     0     0     0  \n",
      "25       0     1     0     0     0     0     0     0     0  \n",
      "26       0     0     0     0     0     0     0     0     0  \n",
      "27       0     0     0     0     0     0     0     0     0  \n",
      "28       0     0     0     0     0     0     0     0     0  \n",
      "29       0     1     0     0     0     0     0     0     0  \n",
      "...    ...   ...   ...   ...   ...   ...   ...   ...   ...  \n",
      "4179     0     0     0     0     0     0     0     0     0  \n",
      "4180     0     1     0     0     0     0     0     0     0  \n",
      "4181     0     0     0     0     0     0     0     0     0  \n",
      "4182     0     0     0     0     0     0     0     0     0  \n",
      "4183     0     0     0     0     0     0     0     0     0  \n",
      "4184     0     0     0     0     0     0     0     0     0  \n",
      "4185     1     0     0     0     0     0     0     0     0  \n",
      "4186     0     1     0     0     0     0     0     0     0  \n",
      "4187     0     0     0     0     0     0     0     0     0  \n",
      "4188     0     1     0     0     0     0     0     0     0  \n",
      "4189     0     0     0     0     0     0     0     0     0  \n",
      "4190     0     0     0     0     0     0     0     0     0  \n",
      "4191     0     0     0     0     0     0     0     0     0  \n",
      "4192     0     0     0     0     0     0     0     0     0  \n",
      "4193     0     0     0     0     0     0     0     0     0  \n",
      "4194     0     0     0     0     0     0     0     0     0  \n",
      "4195     0     0     0     0     0     0     0     0     0  \n",
      "4196     0     0     0     0     0     0     0     0     0  \n",
      "4197     0     0     0     0     0     0     0     0     0  \n",
      "4198     0     0     0     0     0     0     0     0     0  \n",
      "4199     0     0     0     0     0     0     0     0     0  \n",
      "4200     0     0     0     0     0     0     0     0     0  \n",
      "4201     1     0     0     0     0     0     0     0     0  \n",
      "4202     0     0     0     0     0     0     0     0     0  \n",
      "4203     0     0     0     0     0     0     0     0     0  \n",
      "4204     0     0     0     0     0     0     0     0     0  \n",
      "4205     1     0     0     0     0     0     0     0     0  \n",
      "4206     0     1     0     0     0     0     0     0     0  \n",
      "4207     0     0     0     0     0     0     0     0     0  \n",
      "4208     0     0     0     0     0     0     0     0     0  \n",
      "\n",
      "[4209 rows x 583 columns]\n"
     ]
    },
    {
     "ename": "NameError",
     "evalue": "name 'head' is not defined",
     "output_type": "error",
     "traceback": [
      "\u001b[0;31m---------------------------------------------------------------------------\u001b[0m",
      "\u001b[0;31mNameError\u001b[0m                                 Traceback (most recent call last)",
      "\u001b[0;32m<ipython-input-17-b99b8c2f84ad>\u001b[0m in \u001b[0;36m<module>\u001b[0;34m()\u001b[0m\n\u001b[1;32m      2\u001b[0m \u001b[0mdf1\u001b[0m\u001b[0;34m=\u001b[0m\u001b[0mpd\u001b[0m\u001b[0;34m.\u001b[0m\u001b[0mread_csv\u001b[0m\u001b[0;34m(\u001b[0m\u001b[0;34m\"/Users/aidenjohnson/Dropbox/Data Projects/MB/clean_train.csv\"\u001b[0m\u001b[0;34m)\u001b[0m\u001b[0;34m\u001b[0m\u001b[0m\n\u001b[1;32m      3\u001b[0m \u001b[0;32mprint\u001b[0m\u001b[0;34m(\u001b[0m\u001b[0mdf1\u001b[0m\u001b[0;34m)\u001b[0m\u001b[0;34m\u001b[0m\u001b[0m\n\u001b[0;32m----> 4\u001b[0;31m \u001b[0mhead\u001b[0m\u001b[0;34m(\u001b[0m\u001b[0mdf1\u001b[0m\u001b[0;34m)\u001b[0m\u001b[0;34m\u001b[0m\u001b[0m\n\u001b[0m",
      "\u001b[0;31mNameError\u001b[0m: name 'head' is not defined"
     ]
    }
   ],
   "source": [
    "import pandas as pd\n",
    "df1=pd.read_csv(\"/Users/aidenjohnson/Dropbox/Data Projects/MB/clean_train.csv\", header=T)\n",
    "print(df1)\n"
   ]
  },
  {
   "cell_type": "code",
   "execution_count": 30,
   "metadata": {},
   "outputs": [],
   "source": [
    "target=df1.y \n",
    "data=df1.drop('y', axis=1)"
   ]
  },
  {
   "cell_type": "code",
   "execution_count": 31,
   "metadata": {},
   "outputs": [
    {
     "name": "stdout",
     "output_type": "stream",
     "text": [
      "AdaBoostRegressor(base_estimator=None, learning_rate=1.0, loss='linear',\n",
      "         n_estimators=50, random_state=None)\n"
     ]
    }
   ],
   "source": [
    "model = AdaBoostRegressor() \n",
    "model.fit(data, target) \n",
    "print(model)"
   ]
  },
  {
   "cell_type": "code",
   "execution_count": 32,
   "metadata": {
    "collapsed": true
   },
   "outputs": [],
   "source": [
    "expected = target \n",
    "predicted = model.predict(data) "
   ]
  },
  {
   "cell_type": "code",
   "execution_count": 39,
   "metadata": {},
   "outputs": [
    {
     "ename": "AttributeError",
     "evalue": "'function' object has no attribute 'score'",
     "output_type": "error",
     "traceback": [
      "\u001b[0;31m---------------------------------------------------------------------------\u001b[0m",
      "\u001b[0;31mAttributeError\u001b[0m                            Traceback (most recent call last)",
      "\u001b[0;32m<ipython-input-39-bc5709ec285b>\u001b[0m in \u001b[0;36m<module>\u001b[0;34m()\u001b[0m\n\u001b[0;32m----> 1\u001b[0;31m \u001b[0mmodel\u001b[0m\u001b[0;34m.\u001b[0m\u001b[0mpredict\u001b[0m\u001b[0;34m.\u001b[0m\u001b[0mscore\u001b[0m\u001b[0;34m(\u001b[0m\u001b[0mdata\u001b[0m\u001b[0;34m,\u001b[0m\u001b[0mtarget\u001b[0m\u001b[0;34m)\u001b[0m\u001b[0;34m\u001b[0m\u001b[0m\n\u001b[0m",
      "\u001b[0;31mAttributeError\u001b[0m: 'function' object has no attribute 'score'"
     ]
    }
   ],
   "source": [
    "model.predict.score(data,target)"
   ]
  },
  {
   "cell_type": "markdown",
   "metadata": {},
   "source": [
    "Fit a Naive Bayes model to the data"
   ]
  },
  {
   "cell_type": "code",
   "execution_count": 25,
   "metadata": {},
   "outputs": [
    {
     "ename": "ValueError",
     "evalue": "Unknown label type: (array([  72.11,   72.5 ,   72.94, ...,  167.45,  169.91,  265.32]),)",
     "output_type": "error",
     "traceback": [
      "\u001b[0;31m---------------------------------------------------------------------------\u001b[0m",
      "\u001b[0;31mValueError\u001b[0m                                Traceback (most recent call last)",
      "\u001b[0;32m<ipython-input-25-44bcaa27f313>\u001b[0m in \u001b[0;36m<module>\u001b[0;34m()\u001b[0m\n\u001b[1;32m      1\u001b[0m \u001b[0mmodel\u001b[0m \u001b[0;34m=\u001b[0m \u001b[0mGaussianNB\u001b[0m\u001b[0;34m(\u001b[0m\u001b[0;34m)\u001b[0m\u001b[0;34m\u001b[0m\u001b[0m\n\u001b[0;32m----> 2\u001b[0;31m \u001b[0mmodel\u001b[0m\u001b[0;34m.\u001b[0m\u001b[0mfit\u001b[0m\u001b[0;34m(\u001b[0m\u001b[0mdata\u001b[0m\u001b[0;34m,\u001b[0m \u001b[0mtarget\u001b[0m\u001b[0;34m)\u001b[0m\u001b[0;34m\u001b[0m\u001b[0m\n\u001b[0m\u001b[1;32m      3\u001b[0m \u001b[0;32mprint\u001b[0m\u001b[0;34m(\u001b[0m\u001b[0mmodel\u001b[0m\u001b[0;34m)\u001b[0m\u001b[0;34m\u001b[0m\u001b[0m\n",
      "\u001b[0;32m/anaconda/lib/python2.7/site-packages/sklearn/naive_bayes.pyc\u001b[0m in \u001b[0;36mfit\u001b[0;34m(self, X, y, sample_weight)\u001b[0m\n\u001b[1;32m    182\u001b[0m         \u001b[0mX\u001b[0m\u001b[0;34m,\u001b[0m \u001b[0my\u001b[0m \u001b[0;34m=\u001b[0m \u001b[0mcheck_X_y\u001b[0m\u001b[0;34m(\u001b[0m\u001b[0mX\u001b[0m\u001b[0;34m,\u001b[0m \u001b[0my\u001b[0m\u001b[0;34m)\u001b[0m\u001b[0;34m\u001b[0m\u001b[0m\n\u001b[1;32m    183\u001b[0m         return self._partial_fit(X, y, np.unique(y), _refit=True,\n\u001b[0;32m--> 184\u001b[0;31m                                  sample_weight=sample_weight)\n\u001b[0m\u001b[1;32m    185\u001b[0m \u001b[0;34m\u001b[0m\u001b[0m\n\u001b[1;32m    186\u001b[0m     \u001b[0;34m@\u001b[0m\u001b[0mstaticmethod\u001b[0m\u001b[0;34m\u001b[0m\u001b[0m\n",
      "\u001b[0;32m/anaconda/lib/python2.7/site-packages/sklearn/naive_bayes.pyc\u001b[0m in \u001b[0;36m_partial_fit\u001b[0;34m(self, X, y, classes, _refit, sample_weight)\u001b[0m\n\u001b[1;32m    344\u001b[0m             \u001b[0mself\u001b[0m\u001b[0;34m.\u001b[0m\u001b[0mclasses_\u001b[0m \u001b[0;34m=\u001b[0m \u001b[0mNone\u001b[0m\u001b[0;34m\u001b[0m\u001b[0m\n\u001b[1;32m    345\u001b[0m \u001b[0;34m\u001b[0m\u001b[0m\n\u001b[0;32m--> 346\u001b[0;31m         \u001b[0;32mif\u001b[0m \u001b[0m_check_partial_fit_first_call\u001b[0m\u001b[0;34m(\u001b[0m\u001b[0mself\u001b[0m\u001b[0;34m,\u001b[0m \u001b[0mclasses\u001b[0m\u001b[0;34m)\u001b[0m\u001b[0;34m:\u001b[0m\u001b[0;34m\u001b[0m\u001b[0m\n\u001b[0m\u001b[1;32m    347\u001b[0m             \u001b[0;31m# This is the first call to partial_fit:\u001b[0m\u001b[0;34m\u001b[0m\u001b[0;34m\u001b[0m\u001b[0m\n\u001b[1;32m    348\u001b[0m             \u001b[0;31m# initialize various cumulative counters\u001b[0m\u001b[0;34m\u001b[0m\u001b[0;34m\u001b[0m\u001b[0m\n",
      "\u001b[0;32m/anaconda/lib/python2.7/site-packages/sklearn/utils/multiclass.pyc\u001b[0m in \u001b[0;36m_check_partial_fit_first_call\u001b[0;34m(clf, classes)\u001b[0m\n\u001b[1;32m    306\u001b[0m         \u001b[0;32melse\u001b[0m\u001b[0;34m:\u001b[0m\u001b[0;34m\u001b[0m\u001b[0m\n\u001b[1;32m    307\u001b[0m             \u001b[0;31m# This is the first call to partial_fit\u001b[0m\u001b[0;34m\u001b[0m\u001b[0;34m\u001b[0m\u001b[0m\n\u001b[0;32m--> 308\u001b[0;31m             \u001b[0mclf\u001b[0m\u001b[0;34m.\u001b[0m\u001b[0mclasses_\u001b[0m \u001b[0;34m=\u001b[0m \u001b[0munique_labels\u001b[0m\u001b[0;34m(\u001b[0m\u001b[0mclasses\u001b[0m\u001b[0;34m)\u001b[0m\u001b[0;34m\u001b[0m\u001b[0m\n\u001b[0m\u001b[1;32m    309\u001b[0m             \u001b[0;32mreturn\u001b[0m \u001b[0mTrue\u001b[0m\u001b[0;34m\u001b[0m\u001b[0m\n\u001b[1;32m    310\u001b[0m \u001b[0;34m\u001b[0m\u001b[0m\n",
      "\u001b[0;32m/anaconda/lib/python2.7/site-packages/sklearn/utils/multiclass.pyc\u001b[0m in \u001b[0;36munique_labels\u001b[0;34m(*ys)\u001b[0m\n\u001b[1;32m     96\u001b[0m     \u001b[0m_unique_labels\u001b[0m \u001b[0;34m=\u001b[0m \u001b[0m_FN_UNIQUE_LABELS\u001b[0m\u001b[0;34m.\u001b[0m\u001b[0mget\u001b[0m\u001b[0;34m(\u001b[0m\u001b[0mlabel_type\u001b[0m\u001b[0;34m,\u001b[0m \u001b[0mNone\u001b[0m\u001b[0;34m)\u001b[0m\u001b[0;34m\u001b[0m\u001b[0m\n\u001b[1;32m     97\u001b[0m     \u001b[0;32mif\u001b[0m \u001b[0;32mnot\u001b[0m \u001b[0m_unique_labels\u001b[0m\u001b[0;34m:\u001b[0m\u001b[0;34m\u001b[0m\u001b[0m\n\u001b[0;32m---> 98\u001b[0;31m         \u001b[0;32mraise\u001b[0m \u001b[0mValueError\u001b[0m\u001b[0;34m(\u001b[0m\u001b[0;34m\"Unknown label type: %s\"\u001b[0m \u001b[0;34m%\u001b[0m \u001b[0mrepr\u001b[0m\u001b[0;34m(\u001b[0m\u001b[0mys\u001b[0m\u001b[0;34m)\u001b[0m\u001b[0;34m)\u001b[0m\u001b[0;34m\u001b[0m\u001b[0m\n\u001b[0m\u001b[1;32m     99\u001b[0m \u001b[0;34m\u001b[0m\u001b[0m\n\u001b[1;32m    100\u001b[0m     \u001b[0mys_labels\u001b[0m \u001b[0;34m=\u001b[0m \u001b[0mset\u001b[0m\u001b[0;34m(\u001b[0m\u001b[0mchain\u001b[0m\u001b[0;34m.\u001b[0m\u001b[0mfrom_iterable\u001b[0m\u001b[0;34m(\u001b[0m\u001b[0m_unique_labels\u001b[0m\u001b[0;34m(\u001b[0m\u001b[0my\u001b[0m\u001b[0;34m)\u001b[0m \u001b[0;32mfor\u001b[0m \u001b[0my\u001b[0m \u001b[0;32min\u001b[0m \u001b[0mys\u001b[0m\u001b[0;34m)\u001b[0m\u001b[0;34m)\u001b[0m\u001b[0;34m\u001b[0m\u001b[0m\n",
      "\u001b[0;31mValueError\u001b[0m: Unknown label type: (array([  72.11,   72.5 ,   72.94, ...,  167.45,  169.91,  265.32]),)"
     ]
    }
   ],
   "source": [
    "model = GaussianNB() \n",
    "model.fit(data, target) \n",
    "print(model)"
   ]
  },
  {
   "cell_type": "code",
   "execution_count": null,
   "metadata": {
    "collapsed": true
   },
   "outputs": [],
   "source": []
  }
 ],
 "metadata": {
  "kernelspec": {
   "display_name": "Python 2",
   "language": "python",
   "name": "python2"
  },
  "language_info": {
   "codemirror_mode": {
    "name": "ipython",
    "version": 2
   },
   "file_extension": ".py",
   "mimetype": "text/x-python",
   "name": "python",
   "nbconvert_exporter": "python",
   "pygments_lexer": "ipython2",
   "version": "2.7.13"
  }
 },
 "nbformat": 4,
 "nbformat_minor": 2
}
